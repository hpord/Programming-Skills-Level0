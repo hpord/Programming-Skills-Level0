{
 "cells": [
  {
   "cell_type": "code",
   "execution_count": 24,
   "metadata": {},
   "outputs": [],
   "source": [
    "class Cuenta:\n",
    "    def __init__(self, saldo = 1500):\n",
    "        self._saldo = saldo\n",
    "    @property\n",
    "    def saldo(self):\n",
    "        return self._saldo\n",
    "    @saldo.setter \n",
    "    def saldo(self, s):\n",
    "        self._saldo = s"
   ]
  },
  {
   "cell_type": "code",
   "execution_count": 25,
   "metadata": {},
   "outputs": [],
   "source": [
    "tipo_cambio = {\n",
    "    \"CLP\": 1_130.79,\n",
    "    \"ARS\": 1_033.10,\n",
    "    \"USD\": 1.27,\n",
    "    \"EUR\": 1.16,\n",
    "    \"TRY\": 37.96,\n",
    "    \"GBP\": 1.00\n",
    "}\n",
    "\n",
    "cant_min = {\n",
    "    \"CLP\": 10.00,\n",
    "    \"ARS\": 1.00,\n",
    "    \"USD\": 800.00,\n",
    "    \"EUR\": 200.00,\n",
    "    \"TRY\": 5.00,\n",
    "    \"GBP\": 100.00\n",
    "}\n",
    "\n",
    "cant_max = {\n",
    "    \"CLP\": 1000.00,\n",
    "    \"ARS\": 100.00,\n",
    "    \"USD\": 80000.00,\n",
    "    \"EUR\": 20000.00,\n",
    "    \"TRY\": 5000.00,\n",
    "    \"GBP\": 1000.00\n",
    "}"
   ]
  },
  {
   "cell_type": "code",
   "execution_count": 26,
   "metadata": {},
   "outputs": [],
   "source": [
    "cuenta1 = Cuenta(20_000)"
   ]
  },
  {
   "cell_type": "code",
   "execution_count": 27,
   "metadata": {},
   "outputs": [],
   "source": [
    "def main():\n",
    "    while True:\n",
    "        print(\"CONVERTOR DE DIVISAS\")\n",
    "        print(\"Divisas válidas:\")\n",
    "        print(\"\\nCLP\\nARS\\nUSD\\nEUR\\nTRY\\nGBP\\n\")\n",
    "        div_inic = input(\"Elija divisa inicial: \")\n",
    "        div_fin = input(\"Elija divisa a la que quiere cambiar: \")\n",
    "\n",
    "        cant_inic = float(input(\"Ingrese monto de la divisa inicial: \"))\n",
    "        cant_fin = round(cant_inic*tipo_cambio[div_fin.upper()]/tipo_cambio[div_inic.upper()], 2)\n",
    "        print(\"\\nLa cantidad convertida es de\", str(cant_fin), div_fin, \"\\n\")\n",
    "\n",
    "        print(\"\\nLimites de montos de retiro:\")\n",
    "        print(f\"CLP: {cant_min['CLP']:.2f} a {cant_max['CLP']:.2f}\")\n",
    "        print(f\"ARS: {cant_min['ARS']:.2f} a {cant_max['ARS']:.2f}\")\n",
    "        print(f\"USD: {cant_min['USD']:.2f} a {cant_max['USD']:.2f}\")\n",
    "        print(f\"EUR: {cant_min['EUR']:.2f} a {cant_max['EUR']:.2f}\")\n",
    "        print(f\"TRY: {cant_min['TRY']:.2f} a {cant_max['TRY']:.2f}\")\n",
    "        print(f\"GBP: {cant_min['GBP']:.2f} a {cant_max['GBP']:.2f}\")\n",
    "        resp = input(\"¿Desea retirar dicha cantidad (se le cobrará 1% de comisión)(SI/NO):? \")\n",
    "        print()\n",
    "        \n",
    "        if resp.upper() == \"SI\":\n",
    "            if cant_fin < cant_min[div_fin.upper()] or cant_fin > cant_max[div_fin.upper()]:\n",
    "                print(\"Monto fuera de los limites de retiro\\n\")\n",
    "                continue\n",
    "            elif cant_inic*1.01 > cuenta1.saldo:\n",
    "                print(\"No tiene suficiente saldo\\n\")\n",
    "                continue\n",
    "            print(\"Procesando ...\\n\")\n",
    "            cuenta1.saldo -= cant_inic*1.01\n",
    "            print(\"Dinero retirado\\n\")\n",
    "        resp = input(\"¿Desea realizar otra operación(SI/NO): ?\")\n",
    "        if (resp.upper() == \"NO\"):\n",
    "            print(\"Gracias\")\n",
    "            break"
   ]
  },
  {
   "cell_type": "code",
   "execution_count": 28,
   "metadata": {},
   "outputs": [
    {
     "name": "stdout",
     "output_type": "stream",
     "text": [
      "CONVERTOR DE DIVISAS\n",
      "Divisas válidas:\n",
      "\n",
      "CLP\n",
      "ARS\n",
      "USD\n",
      "EUR\n",
      "TRY\n",
      "GBP\n",
      "\n",
      "Elija divisa inicial: usd\n",
      "Elija divisa a la que quiere cambiar: eur\n",
      "Ingrese monto de la divisa inicial: 150\n",
      "\n",
      "La cantidad convertida es de 137.01 eur \n",
      "\n",
      "\n",
      "Limites de montos de retiro:\n",
      "CLP: 10.00 a 1000.00\n",
      "CLP: 1.00 a 100.00\n",
      "CLP: 800.00 a 80000.00\n",
      "CLP: 200.00 a 20000.00\n",
      "CLP: 5.00 a 5000.00\n",
      "CLP: 100.00 a 1000.00\n",
      "¿Desea retirar dicha cantidad (se le cobrará 1% de comisión)(SI/NO): ?si\n",
      "\n",
      "Monto fuera de los limites de retiro\n",
      "\n",
      "CONVERTOR DE DIVISAS\n",
      "Divisas válidas:\n",
      "\n",
      "CLP\n",
      "ARS\n",
      "USD\n",
      "EUR\n",
      "TRY\n",
      "GBP\n",
      "\n",
      "Elija divisa inicial: clp\n",
      "Elija divisa a la que quiere cambiar: usd\n",
      "Ingrese monto de la divisa inicial: 45\n",
      "\n",
      "La cantidad convertida es de 0.05 usd \n",
      "\n",
      "\n",
      "Limites de montos de retiro:\n",
      "CLP: 10.00 a 1000.00\n",
      "CLP: 1.00 a 100.00\n",
      "CLP: 800.00 a 80000.00\n",
      "CLP: 200.00 a 20000.00\n",
      "CLP: 5.00 a 5000.00\n",
      "CLP: 100.00 a 1000.00\n",
      "¿Desea retirar dicha cantidad (se le cobrará 1% de comisión)(SI/NO): ?no\n",
      "\n",
      "¿Desea realizar otra operación(SI/NO): ?no\n",
      "Gracias\n"
     ]
    }
   ],
   "source": [
    "if __name__ == \"__main__\":\n",
    "    main()"
   ]
  },
  {
   "cell_type": "code",
   "execution_count": null,
   "metadata": {},
   "outputs": [],
   "source": []
  }
 ],
 "metadata": {
  "kernelspec": {
   "display_name": "Python 3 (ipykernel)",
   "language": "python",
   "name": "python3"
  },
  "language_info": {
   "codemirror_mode": {
    "name": "ipython",
    "version": 3
   },
   "file_extension": ".py",
   "mimetype": "text/x-python",
   "name": "python",
   "nbconvert_exporter": "python",
   "pygments_lexer": "ipython3",
   "version": "3.7.16"
  }
 },
 "nbformat": 4,
 "nbformat_minor": 2
}
