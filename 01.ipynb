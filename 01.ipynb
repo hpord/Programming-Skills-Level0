{
 "cells": [
  {
   "cell_type": "code",
   "execution_count": 1,
   "metadata": {},
   "outputs": [],
   "source": [
    "class Cliente:\n",
    "    def __init__(self, nombre, apellido):\n",
    "        self._nombre = nombre\n",
    "        self._apellido = apellido"
   ]
  },
  {
   "cell_type": "code",
   "execution_count": 2,
   "metadata": {},
   "outputs": [],
   "source": [
    "class Cuenta:\n",
    "    def __init__(self, user, password, cliente):\n",
    "        self._user = user\n",
    "        self._password = password\n",
    "        self._cliente = cliente\n",
    "        self._saldo = 2000\n",
    "        #self._acceso = False\n",
    "    def get_saldo(self):\n",
    "        return self._saldo\n",
    "    def set_saldo(self, saldo):\n",
    "        self._saldo = saldo"
   ]
  },
  {
   "cell_type": "markdown",
   "metadata": {},
   "source": [
    "## Creando condiciones previas"
   ]
  },
  {
   "cell_type": "code",
   "execution_count": 3,
   "metadata": {},
   "outputs": [],
   "source": [
    "cliente1 = Cliente(\"Juan\", \"Cantacuceno\")\n",
    "cliente2 = Cliente(\"Anastasia\", \"Romanova\")\n",
    "\n",
    "cuenta1 = Cuenta(\"jcantacuceno\", \"123456\", cliente1)\n",
    "cuenta2 = Cuenta(\"aromanova\", \"654321\", cliente2)"
   ]
  },
  {
   "cell_type": "code",
   "execution_count": 4,
   "metadata": {},
   "outputs": [],
   "source": [
    "usuarios = {\n",
    "    \"jcantacuceno\": [\"123456\", cuenta1],\n",
    "    \"aromanova\": [\"654321\", cuenta2]\n",
    "}"
   ]
  },
  {
   "cell_type": "markdown",
   "metadata": {},
   "source": [
    "## Sistema"
   ]
  },
  {
   "cell_type": "code",
   "execution_count": 12,
   "metadata": {},
   "outputs": [
    {
     "name": "stdout",
     "output_type": "stream",
     "text": [
      "Bienvenido al banco PPP\n",
      "MENÚ\n",
      "Seleccione una opcion:\n",
      "----------------------\n",
      "1. Depositar dinero\n",
      "2. Retirar dinero\n",
      "3. Ver saldo\n",
      "4. Transferir dinero\n",
      "5. Salir\n"
     ]
    }
   ],
   "source": [
    "print(\"Bienvenido al banco PPP\")\n",
    "intentos_fallidos = 0\n",
    "while intentos_fallidos < 3:\n",
    "    user = input(\"Por favor ingrese su usuario: \")\n",
    "    password = input(\"Por favor ingrese su contraseña: \")\n",
    "    if password == str(usuarios[user][0]): break\n",
    "    intentos_fallidos += 1\n",
    "if intentos_fallidos < 3:\n",
    "    intentos_fallidos = 0\n",
    "    while(True):\n",
    "        print(\"MENÚ\")\n",
    "        print(\"Seleccione una opcion:\")\n",
    "        print(\"----------------------\")\n",
    "        print(\"1. Depositar dinero\")\n",
    "        print(\"2. Retirar dinero\")\n",
    "        print(\"3. Ver saldo\")\n",
    "        print(\"4. Transferir dinero\")\n",
    "        print(\"5. Salir\")\n",
    "        opcion = int(input(\"Escriba el número correspondiente a la opción: \"))\n",
    "        if opcion > 4: break\n",
    "        if opcion == 1:\n",
    "            deposito = int(input(\"Ingrese monto a depositar: \"))\n",
    "            usuarios[user][1].set_saldo(usuarios[user][1].get_saldo + deposito)\n",
    "            print(\"Usted ha depositado $\", deposito)\n",
    "        elif opcion == 2:\n",
    "            retiro = int(input(\"Ingrese monto a retirar: \"))\n",
    "            usuarios[user][1].set_saldo(usuarios[user][1].get_saldo - retiro)\n",
    "            print(\"Usted ha retirado $\", retiro)\n",
    "        elif opcion == 3:\n",
    "            print(\"Su saldo en su cuenta es de $\", usuarios[user][1].get_saldo)\n",
    "        elif opcion == 4:\n",
    "            user2 = input(\"Ingrese nombre del usuario a transferir dinero: \")\n",
    "            deposito = int(input(\"Ingrese monto a depositar: \"))\n",
    "            usuarios[user2][1].set_saldo(usuarios[user][1].get_saldo + deposito)\n",
    "else:\n",
    "    print(\"Usuario bloqueado\")\n",
    "    "
   ]
  }
 ],
 "metadata": {
  "kernelspec": {
   "display_name": "base",
   "language": "python",
   "name": "python3"
  },
  "language_info": {
   "codemirror_mode": {
    "name": "ipython",
    "version": 3
   },
   "file_extension": ".py",
   "mimetype": "text/x-python",
   "name": "python",
   "nbconvert_exporter": "python",
   "pygments_lexer": "ipython3",
   "version": "3.9.13"
  }
 },
 "nbformat": 4,
 "nbformat_minor": 2
}
