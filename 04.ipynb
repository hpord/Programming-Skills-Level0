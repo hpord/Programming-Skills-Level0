{
 "cells": [
  {
   "cell_type": "code",
   "execution_count": 83,
   "id": "596f5f5a",
   "metadata": {},
   "outputs": [],
   "source": [
    "from random import randint\n",
    "#from IPython.display import clear_output"
   ]
  },
  {
   "cell_type": "code",
   "execution_count": 84,
   "id": "eae3eb70",
   "metadata": {},
   "outputs": [],
   "source": [
    "class Envio:\n",
    "    def __init__(self, nombre_remit , apellido_remit, nombre_dest, apellido_dest, peso, precio):\n",
    "        self._nombre_remit = nombre_remit \n",
    "        self._apellido_remit  = apellido_remit\n",
    "        self._nombre_dest = nombre_dest\n",
    "        self._apellido_dest  = apellido_dest\n",
    "        self._peso = peso \n",
    "        self._precio = precio"
   ]
  },
  {
   "cell_type": "code",
   "execution_count": 85,
   "id": "0270c35a",
   "metadata": {},
   "outputs": [],
   "source": [
    "class Sistema:\n",
    "    def __init__(self, usuarios_cont):\n",
    "        self._usuarios_cont = usuarios_cont\n",
    "        self._user = None\n",
    "        self._password = None\n",
    "        self._opciones = [\n",
    "            None,\n",
    "            self.enviar_paquete,\n",
    "            self.salir\n",
    "        ]\n",
    "        self._operativo = True\n",
    "        self._num_paquetes = [None]\n",
    "        self._envios = [None]\n",
    "        \n",
    "    def mostrar_bienvenida(self):\n",
    "        print(\"Bienvenido a nuestro sistema de envío en línea\\n\")\n",
    "        \n",
    "    def solicitar_credenciales(self):\n",
    "        self._user = input(\"Por favor ingrese su usuario: \")\n",
    "        self._password = str(input(\"Por favor ingrese su contraseña: \"))\n",
    "        print()\n",
    "        \n",
    "    def validar_credenciales(self):\n",
    "        if (self._user not in self._usuarios_cont) or (self._password != self._usuarios_cont[self._user]):\n",
    "            return False\n",
    "        return True\n",
    "    def mostrar_menu(self):\n",
    "            print(\"Seleccione la acción que desea realizar:\")\n",
    "            print(\"----------------------\")\n",
    "            print(\"1. Enviar paquete\")\n",
    "            print(\"2. Salir del sistema\\n\")\n",
    "            \n",
    "    def realizar_acciones(self):\n",
    "        self._operativo = True\n",
    "        print(\"\\nBienvenido a nuestro sistema de envío \\n\")\n",
    "        while self._operativo:\n",
    "            opcion = 0\n",
    "            while opcion not in (1,2):\n",
    "                self.mostrar_menu()\n",
    "                try:\n",
    "                    opcion = int(input(\"Digite el número correspondiente a la acción: \"))\n",
    "                except:\n",
    "                    print()\n",
    "                    print(\"Entrada no válida\")\n",
    "                    opcion = 0\n",
    "                else:\n",
    "                    if opcion not in (1,2):\n",
    "                        print()\n",
    "                        print(\"Valores fuera del rango\")\n",
    "                        print(\"Ingrese valores correctos\")\n",
    "            self._opciones[opcion]()\n",
    "            if opcion != 2:\n",
    "                eleccion = \"z\"\n",
    "                while eleccion.lower() not in (\"si\", \"s\", \"no\", \"n\"):\n",
    "                    eleccion = input(\"¿Desea realizar otra operación?(Si/No): \")\n",
    "                    print()\n",
    "                    if eleccion.lower() not in [\"si\", \"s\", \"no\", \"n\"]:\n",
    "                        print(\"Entrada no válida\")\n",
    "                        print(\"Ingrese un valor correcto\")\n",
    "                if eleccion.lower() in (\"no\", \"n\"):\n",
    "                    self.salir()\n",
    "        \n",
    "    def enviar_paquete(self):\n",
    "        nombre_rem = input(\"Ingrese nombre del remitente: \")\n",
    "        apellido_rem = input(\"Ingrese apellido del remitente: \")\n",
    "        nombre_dest = input(\"Ingrese nombre del destinatario: \")\n",
    "        apellido_dest = input(\"Ingrese apellido del destinatario: \")\n",
    "        print()\n",
    "        num = None\n",
    "        while num in self._num_paquetes:\n",
    "            num = randint(1, 1000)\n",
    "        self._num_paquetes.append(num)\n",
    "        print(f\"Su envío fue asignado con el numero {num}\\n\")\n",
    "        while True:\n",
    "            try:\n",
    "                peso = int(input(\"Ingrese peso total del paquete: \"))\n",
    "                print()\n",
    "            except:\n",
    "                print()\n",
    "                print(\"Entrada no válida\")\n",
    "            else:\n",
    "                break\n",
    "        precio = 2*peso\n",
    "        print(f\"El importe a pagar es de ${precio}\\n\")\n",
    "        self._envios.append(Envio(nombre_rem, apellido_rem, nombre_dest, apellido_dest, peso, precio))\n",
    "        print(f\"Envío registrado\\n\")\n",
    "\n",
    "    def salir(self):\n",
    "        print(\"Gracias por su preferencia\\n\")\n",
    "        self._operativo = False"
   ]
  },
  {
   "cell_type": "code",
   "execution_count": 86,
   "id": "92580d85",
   "metadata": {},
   "outputs": [],
   "source": [
    "lista_usuarios = [\"jcantacuceno\", \"aromanova\"]\n",
    "lista_contraseñas = [\"123456\", \"654321\"]\n",
    "\n",
    "usuarios_contr = dict(zip(lista_usuarios, lista_contraseñas))\n"
   ]
  },
  {
   "cell_type": "code",
   "execution_count": 87,
   "id": "0246955d",
   "metadata": {},
   "outputs": [],
   "source": [
    "ventana = Sistema(usuarios_contr)"
   ]
  },
  {
   "cell_type": "code",
   "execution_count": 88,
   "id": "9c24a600",
   "metadata": {},
   "outputs": [],
   "source": [
    "def main():\n",
    "    ventana.mostrar_bienvenida()\n",
    "    intentos = 0\n",
    "    while intentos < 3:\n",
    "        ventana.solicitar_credenciales()\n",
    "        if ventana.validar_credenciales(): break\n",
    "        intentos +=1\n",
    "        print(f\"Datos incorrectos. Le quedan {3-intentos} intento(s)\\n\")\n",
    "    if intentos == 3:\n",
    "        print(\"SISTEMA BLOQUEADO\")\n",
    "        return\n",
    "    ventana.realizar_acciones()"
   ]
  },
  {
   "cell_type": "code",
   "execution_count": 89,
   "id": "826a643c",
   "metadata": {
    "scrolled": false
   },
   "outputs": [
    {
     "name": "stdout",
     "output_type": "stream",
     "text": [
      "Bienvenido a nuestro sistema de envío en línea\n",
      "\n",
      "Por favor ingrese su usuario: aromanova\n",
      "Por favor ingrese su contraseña: 654321\n",
      "\n",
      "\n",
      "Bienvenido a nuestro sistema de envío \n",
      "\n",
      "Seleccione la acción que desea realizar:\n",
      "----------------------\n",
      "1. Enviar paquete\n",
      "2. Salir del sistema\n",
      "\n",
      "Digite el número correspondiente a la acción: 2\n",
      "Gracias por su preferencia\n",
      "\n"
     ]
    }
   ],
   "source": [
    "if __name__ == \"__main__\":\n",
    "    main()"
   ]
  },
  {
   "cell_type": "code",
   "execution_count": 90,
   "id": "c603c584",
   "metadata": {},
   "outputs": [
    {
     "name": "stdout",
     "output_type": "stream",
     "text": [
      "Bienvenido a nuestro sistema de envío en línea\n",
      "\n",
      "Por favor ingrese su usuario: heenwr\n",
      "Por favor ingrese su contraseña: 5155\n",
      "\n",
      "Datos incorrectos. Le quedan 2 intento(s)\n",
      "\n",
      "Por favor ingrese su usuario: wnrw\n",
      "Por favor ingrese su contraseña: 94\n",
      "\n",
      "Datos incorrectos. Le quedan 1 intento(s)\n",
      "\n",
      "Por favor ingrese su usuario: etjetj5\n",
      "Por favor ingrese su contraseña: erne\n",
      "\n",
      "Datos incorrectos. Le quedan 0 intento(s)\n",
      "\n",
      "SISTEMA BLOQUEADO\n"
     ]
    }
   ],
   "source": [
    "if __name__ == \"__main__\":\n",
    "    main()"
   ]
  },
  {
   "cell_type": "code",
   "execution_count": 91,
   "id": "9d248262",
   "metadata": {},
   "outputs": [
    {
     "name": "stdout",
     "output_type": "stream",
     "text": [
      "Bienvenido a nuestro sistema de envío en línea\n",
      "\n",
      "Por favor ingrese su usuario: wnn\n",
      "Por favor ingrese su contraseña: 66\n",
      "\n",
      "Datos incorrectos. Le quedan 2 intento(s)\n",
      "\n",
      "Por favor ingrese su usuario: nsn\n",
      "Por favor ingrese su contraseña: 5\n",
      "\n",
      "Datos incorrectos. Le quedan 1 intento(s)\n",
      "\n",
      "Por favor ingrese su usuario: aromanova\n",
      "Por favor ingrese su contraseña: 654321\n",
      "\n",
      "\n",
      "Bienvenido a nuestro sistema de envío \n",
      "\n",
      "Seleccione la acción que desea realizar:\n",
      "----------------------\n",
      "1. Enviar paquete\n",
      "2. Salir del sistema\n",
      "\n",
      "Digite el número correspondiente a la acción: as\n",
      "\n",
      "Entrada no válida\n",
      "Seleccione la acción que desea realizar:\n",
      "----------------------\n",
      "1. Enviar paquete\n",
      "2. Salir del sistema\n",
      "\n",
      "Digite el número correspondiente a la acción: 6\n",
      "\n",
      "Valores fuera del rango\n",
      "Ingrese valores correctos\n",
      "Seleccione la acción que desea realizar:\n",
      "----------------------\n",
      "1. Enviar paquete\n",
      "2. Salir del sistema\n",
      "\n",
      "Digite el número correspondiente a la acción: 1\n",
      "Ingrese nombre del remitente: Anastasia\n",
      "Ingrese apellido del remitente: Romanova\n",
      "Ingrese nombre del destinatario: Pedro\n",
      "Ingrese apellido del destinatario: Picapiedra\n",
      "\n",
      "Su envío fue asignado con el numero 288\n",
      "\n",
      "Ingrese peso total del paquete: 11\n",
      "\n",
      "El importe a pagar es de $22\n",
      "\n",
      "Envío registrado\n",
      "\n",
      "¿Desea realizar otra operación?(Si/No): n\n",
      "\n",
      "Gracias por su preferencia\n",
      "\n"
     ]
    }
   ],
   "source": [
    "if __name__ == \"__main__\":\n",
    "    main()"
   ]
  },
  {
   "cell_type": "code",
   "execution_count": null,
   "id": "730ee153",
   "metadata": {},
   "outputs": [],
   "source": []
  }
 ],
 "metadata": {
  "kernelspec": {
   "display_name": "Python 3 (ipykernel)",
   "language": "python",
   "name": "python3"
  },
  "language_info": {
   "codemirror_mode": {
    "name": "ipython",
    "version": 3
   },
   "file_extension": ".py",
   "mimetype": "text/x-python",
   "name": "python",
   "nbconvert_exporter": "python",
   "pygments_lexer": "ipython3",
   "version": "3.7.16"
  }
 },
 "nbformat": 4,
 "nbformat_minor": 5
}
