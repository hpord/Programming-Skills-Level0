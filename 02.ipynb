{
 "cells": [
  {
   "cell_type": "code",
   "execution_count": 3,
   "metadata": {},
   "outputs": [],
   "source": [
    "class Cuenta:\n",
    "    def __init__(self, saldo = 1500):\n",
    "        self._saldo = saldo\n",
    "    @property\n",
    "    def saldo(self):\n",
    "        return self._saldo\n",
    "    @saldo.setter \n",
    "    def saldo(self, s):\n",
    "        self._saldo = s"
   ]
  },
  {
   "cell_type": "code",
   "execution_count": 5,
   "metadata": {},
   "outputs": [],
   "source": [
    "tipo_cambio = {\n",
    "    \"CLP\": 1_130.79,\n",
    "    \"ARS\": 1_033.10,\n",
    "    \"USD\": 1.27,\n",
    "    \"EUR\": 1.16,\n",
    "    \"TRY\": 37.96,\n",
    "    \"GBP\": 1.00\n",
    "}\n",
    "\n",
    "cant_min = {\n",
    "    \"CLP\": 10.00,\n",
    "    \"ARS\": 1.00,\n",
    "    \"USD\": 800.00,\n",
    "    \"EUR\": 200.00,\n",
    "    \"TRY\": 5.00,\n",
    "    \"GBP\": 100.00\n",
    "}\n",
    "\n",
    "cant_max = {\n",
    "    \"CLP\": 1000.00,\n",
    "    \"ARS\": 100.00,\n",
    "    \"USD\": 80000.00,\n",
    "    \"EUR\": 20000.00,\n",
    "    \"TRY\": 5000.00,\n",
    "    \"GBP\": 1000.00\n",
    "}"
   ]
  },
  {
   "cell_type": "code",
   "execution_count": 6,
   "metadata": {},
   "outputs": [],
   "source": [
    "cuenta1 = Cuenta(200_000_000)"
   ]
  },
  {
   "cell_type": "code",
   "execution_count": 7,
   "metadata": {},
   "outputs": [
    {
     "name": "stdout",
     "output_type": "stream",
     "text": [
      "CONVERTOR DE DIVISAS\n",
      "Divisas válidas:\n",
      "\n",
      "CLP\n",
      "ARS\n",
      "USD\n",
      "EUR\n",
      "TRY\n",
      "GBP\n",
      "\n",
      "\n",
      "La cantidad convertida es de 115.99999999999999 eur \n",
      "\n",
      "\n",
      "Limites de montos de retiro:\n",
      "CLP: 10.0 - 1000.0\n",
      "ARS: 1.0 - 100.0\n",
      "USD: 800.0 - 80000.0\n",
      "EUR: 200.0 - 20000.0\n",
      "TRY: 5.0 - 5000.0\n",
      "GBP: 100.0 - 1000.0\n",
      "Gracias\n"
     ]
    }
   ],
   "source": [
    "while True:\n",
    "    print(\"CONVERTOR DE DIVISAS\")\n",
    "    print(\"Divisas válidas:\")\n",
    "    print(\"\\nCLP\\nARS\\nUSD\\nEUR\\nTRY\\nGBP\\n\")\n",
    "    div_inic = input(\"Elija divisa inicial: \")\n",
    "    div_fin = input(\"Elija divisa a la que quiere cambiar: \")\n",
    "\n",
    "    cant_inic = float(input(\"Ingrese monto de la divisa inicial: \"))\n",
    "    cant_fin = cant_inic*tipo_cambio[div_fin.upper()]/tipo_cambio[div_inic.upper()]\n",
    "    print(\"\\nLa cantidad convertida es de\", str(cant_fin), div_fin, \"\\n\")\n",
    "\n",
    "    print(\"\\nLimites de montos de retiro:\")\n",
    "    print(\"CLP:\", str(cant_min[\"CLP\"]), \"-\", str(cant_max[\"CLP\"]))\n",
    "    print(\"ARS:\", str(cant_min[\"ARS\"]), \"-\", str(cant_max[\"ARS\"]))\n",
    "    print(\"USD:\", str(cant_min[\"USD\"]), \"-\", str(cant_max[\"USD\"]))\n",
    "    print(\"EUR:\", str(cant_min[\"EUR\"]), \"-\", str(cant_max[\"EUR\"]))\n",
    "    print(\"TRY:\", str(cant_min[\"TRY\"]), \"-\", str(cant_max[\"TRY\"]))\n",
    "    print(\"GBP:\", str(cant_min[\"GBP\"]), \"-\", str(cant_max[\"GBP\"]))\n",
    "    resp = input(\"¿Desea retirar dicha cantidad(SI/NO): ?\")\n",
    "    if (resp.upper() == \"SI\"):\n",
    "        if (cant_fin < cant_min[div_fin.upper()] or cant_fin > cant_max[div_fin.upper()]):\n",
    "            print(\"Monto fuera de los limites de retiro\")\n",
    "            continue\n",
    "        cuenta1.saldo -= cant_inic*1.01\n",
    "        print(\"Dinero retirado\\n\")\n",
    "    resp = input(\"¿Desea realizar otra operación(SI/NO): ?\")\n",
    "    if (resp.upper() == \"NO\"):\n",
    "        print(\"Gracias\")\n",
    "        break"
   ]
  }
 ],
 "metadata": {
  "kernelspec": {
   "display_name": "base",
   "language": "python",
   "name": "python3"
  },
  "language_info": {
   "codemirror_mode": {
    "name": "ipython",
    "version": 3
   },
   "file_extension": ".py",
   "mimetype": "text/x-python",
   "name": "python",
   "nbconvert_exporter": "python",
   "pygments_lexer": "ipython3",
   "version": "3.9.13"
  }
 },
 "nbformat": 4,
 "nbformat_minor": 2
}
